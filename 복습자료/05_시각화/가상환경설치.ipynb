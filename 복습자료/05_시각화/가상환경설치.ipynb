{
 "cells": [
  {
   "cell_type": "code",
   "execution_count": null,
   "id": "00c8e55a",
   "metadata": {},
   "outputs": [],
   "source": [
    "'''\n",
    "\n",
    "1. uv venv .venv                    #가상환경 디렉토리와 가상환경 이름을 지정\n",
    "1-1. un venv .venv --python 3.13    #3.13버전이 들어있는 가상환경 생성\n",
    "2. .venv\\Scripts\\activate           #가상환경 실행\n",
    "3. 명령 팔레트(Ctrl+Shift+P)         #명령 팔레트 실행\n",
    "4. python select interpreter        #맞춤 환경\n",
    "5. 맞춤 가상환경 설정                #.venv\\Scripts\\python...\n",
    "6. 커널 가상환경 선택                #.venv\\Scripts\\python...\n",
    "\n",
    "\n",
    "7. uv pip install 패키지명          #그냥 pip로 설치하면 가상환경에 설치 안됨\n",
    "8. uv pip install ipykernel         #주피터 노트북 실행을 위해 필요\n",
    "9. uv pip install pandas\n",
    "10. uv pip install matplotlib\n",
    "11. matplotlib 설정                 #.venv\\Lib\\site-packages\\matplotlib\\mpl-data\\matplotlibrc\n",
    "12. matplotlib 수정                 #unicode_minus-False, font.family:   malgun gothic 수정\n",
    "\n",
    "\n",
    "'''"
   ]
  }
 ],
 "metadata": {
  "kernelspec": {
   "display_name": ".venv (3.13.7)",
   "language": "python",
   "name": "python3"
  },
  "language_info": {
   "name": "python",
   "version": "3.13.7"
  }
 },
 "nbformat": 4,
 "nbformat_minor": 5
}
